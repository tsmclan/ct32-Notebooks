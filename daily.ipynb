{
 "cells": [
  {
   "cell_type": "markdown",
   "metadata": {},
   "source": [
    "![Why I love programming](images/programming.png)\n",
    "\n",
    "I enjoy programming so much that I stick with it for years, always learning and sharing\n",
    "new and better ways of using tools and packages. As long as I can persist doing this, accumulating by the time going, qualitative change will finally come out of quantitative change.\n",
    "\n",
    "* [How to Execute Jupyter Notebooks from GitHub](https://soshnikov.com/education/how-to-execute-notebooks-from-github/)\n",
    "\n",
    "[MyBinder.org](https://mybinder.org/) is a great project that allows you to create virtualized Jupyter Notebook environment from any GitHub repository. You just need to enter the URL, and Binder will create a container for you, and start Jupyter environment. Many repositories with Jupyter Notebooks include Launch Binder button to open the repository in Binder automatically."
   ]
  },
  {
   "cell_type": "markdown",
   "metadata": {},
   "source": [
    "* [MyBinder.org](https://mybinder.org/) with https://github.com/tsmclan/ct32-Notebooks.git\n",
    "* [ct32-Notebooks](https://mybinder.org/v2/gh/tsmclan/ct32-Notebooks.git/HEAD)"
   ]
  },
  {
   "cell_type": "markdown",
   "metadata": {},
   "source": [
    "# 可视化\n",
    "[Altair](https://github.com/altair-viz/altair)是一个专为Python编写的可视化软件包，它能让数据科学家更多地关注数据本身和其内在的联系。"
   ]
  },
  {
   "cell_type": "code",
   "execution_count": null,
   "metadata": {},
   "outputs": [],
   "source": [
    "import altair as alt\n",
    "alt.Chart(cars).mark_tick().encode(\n",
    "x='Miles_per_Gallon'\n",
    ")"
   ]
  }
 ],
 "metadata": {
  "kernelspec": {
   "display_name": "Python 3",
   "language": "python",
   "name": "python3"
  },
  "language_info": {
   "codemirror_mode": {
    "name": "ipython",
    "version": 3
   },
   "file_extension": ".py",
   "mimetype": "text/x-python",
   "name": "python",
   "nbconvert_exporter": "python",
   "pygments_lexer": "ipython3",
   "version": "3.6.8"
  },
  "toc": {
   "base_numbering": 1,
   "nav_menu": {},
   "number_sections": true,
   "sideBar": true,
   "skip_h1_title": false,
   "title_cell": "Table of Contents",
   "title_sidebar": "Contents",
   "toc_cell": false,
   "toc_position": {},
   "toc_section_display": true,
   "toc_window_display": false
  },
  "varInspector": {
   "cols": {
    "lenName": 16,
    "lenType": 16,
    "lenVar": 40
   },
   "kernels_config": {
    "python": {
     "delete_cmd_postfix": "",
     "delete_cmd_prefix": "del ",
     "library": "var_list.py",
     "varRefreshCmd": "print(var_dic_list())"
    },
    "r": {
     "delete_cmd_postfix": ") ",
     "delete_cmd_prefix": "rm(",
     "library": "var_list.r",
     "varRefreshCmd": "cat(var_dic_list()) "
    }
   },
   "types_to_exclude": [
    "module",
    "function",
    "builtin_function_or_method",
    "instance",
    "_Feature"
   ],
   "window_display": false
  }
 },
 "nbformat": 4,
 "nbformat_minor": 2
}
